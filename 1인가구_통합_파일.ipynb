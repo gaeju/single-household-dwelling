{
 "cells": [
  {
   "cell_type": "markdown",
   "id": "0051ff39",
   "metadata": {
    "id": "0051ff39"
   },
   "source": [
    "# 통합 파일"
   ]
  },
  {
   "cell_type": "markdown",
   "id": "d6a0c549",
   "metadata": {
    "id": "d6a0c549"
   },
   "source": [
    "## 스키마"
   ]
  },
  {
   "cell_type": "markdown",
   "id": "8e9bc467",
   "metadata": {
    "id": "8e9bc467"
   },
   "source": [
    "# 라이브러리 및 데이터 불러오기"
   ]
  },
  {
   "cell_type": "code",
   "execution_count": null,
   "id": "164a486c",
   "metadata": {
    "ExecuteTime": {
     "end_time": "2023-02-26T10:51:01.058197Z",
     "start_time": "2023-02-26T10:50:57.425350Z"
    },
    "id": "164a486c"
   },
   "outputs": [],
   "source": [
    "import pandas as pd \n",
    "import numpy as np \n",
    "from glob import glob\n",
    "\n",
    "from urllib.request import urlopen \n",
    "import json\n",
    "\n",
    "import folium"
   ]
  },
  {
   "cell_type": "code",
   "execution_count": null,
   "id": "80b187fc",
   "metadata": {
    "ExecuteTime": {
     "end_time": "2023-02-26T10:51:03.326927Z",
     "start_time": "2023-02-26T10:51:03.308233Z"
    },
    "id": "80b187fc",
    "outputId": "2b20338a-158a-4b99-bcd7-e2ff8ef66564"
   },
   "outputs": [],
   "source": [
    "file = glob(\"*\")\n",
    "file = sorted(file)\n",
    "file"
   ]
  },
  {
   "cell_type": "code",
   "execution_count": null,
   "id": "71fe58d1",
   "metadata": {
    "ExecuteTime": {
     "end_time": "2023-02-25T15:17:32.790566Z",
     "start_time": "2023-02-25T15:17:32.562397Z"
    },
    "id": "71fe58d1"
   },
   "outputs": [],
   "source": [
    "# 편의시설\n",
    "df_fac = pd.read_csv(file[1], index_col = 0)\n",
    "df_fac_coin = pd.read_csv(file[2], index_col = 0)\n",
    "df_fac_pharm = pd.read_csv(file[3], index_col = 0)\n",
    "df_fac_store = pd.read_csv(file[4], index_col = 0)"
   ]
  },
  {
   "cell_type": "code",
   "execution_count": null,
   "id": "0e8eacd9",
   "metadata": {
    "ExecuteTime": {
     "end_time": "2023-02-25T15:17:33.066362Z",
     "start_time": "2023-02-25T15:17:33.044462Z"
    },
    "id": "0e8eacd9"
   },
   "outputs": [],
   "source": [
    "# 녹지\n",
    "df_green = pd.read_csv(file[5], index_col = 0)"
   ]
  },
  {
   "cell_type": "code",
   "execution_count": null,
   "id": "29b5f160",
   "metadata": {
    "ExecuteTime": {
     "end_time": "2023-02-25T15:17:33.661684Z",
     "start_time": "2023-02-25T15:17:33.602665Z"
    },
    "id": "29b5f160"
   },
   "outputs": [],
   "source": [
    "# 치안\n",
    "df_safe = pd.read_csv(file[6], index_col = 0)\n",
    "df_safe_entertain = pd.read_csv(file[7], index_col = 0)\n",
    "df_safe_police = pd.read_csv(file[8], index_col = 0)"
   ]
  },
  {
   "cell_type": "code",
   "execution_count": null,
   "id": "71b2eb83",
   "metadata": {
    "ExecuteTime": {
     "end_time": "2023-02-25T15:17:34.121085Z",
     "start_time": "2023-02-25T15:17:34.079652Z"
    },
    "id": "71b2eb83"
   },
   "outputs": [],
   "source": [
    "# 교통\n",
    "df_traffic = pd.read_csv(file[9], index_col = 0)\n",
    "df_traffic_bus = pd.read_csv(file[10], index_col = 0)\n",
    "df_traffic_subway = pd.read_csv(file[11], index_col = 0)"
   ]
  },
  {
   "cell_type": "code",
   "execution_count": null,
   "id": "d027cdf5",
   "metadata": {
    "ExecuteTime": {
     "end_time": "2023-02-25T15:17:34.838334Z",
     "start_time": "2023-02-25T15:17:34.817725Z"
    },
    "id": "d027cdf5"
   },
   "outputs": [],
   "source": [
    "#법정동코드\n",
    "Statutory_dong_code = pd.read_csv(file[12], index_col = 0)"
   ]
  },
  {
   "cell_type": "code",
   "execution_count": null,
   "id": "0efb6efd",
   "metadata": {
    "ExecuteTime": {
     "end_time": "2023-02-26T10:51:13.257688Z",
     "start_time": "2023-02-26T10:51:11.540524Z"
    },
    "id": "0efb6efd"
   },
   "outputs": [],
   "source": [
    "#전월세\n",
    "df_houseprice = pd.read_csv(file[13], index_col = 0, encoding = 'cp949')\n",
    "\n",
    "df_monthprice= pd.read_csv(file[14], index_col = 0)\n",
    "df_monthprice_0_10 = pd.read_csv(file[15], index_col = 0)\n",
    "df_monthprice_11_15 = pd.read_csv(file[16], index_col = 0)\n",
    "df_monthprice_16_18 = pd.read_csv(file[17], index_col = 0)\n",
    "\n",
    "df_yearprice= pd.read_csv(file[18], index_col = 0)\n",
    "df_yearprice_0_10= pd.read_csv(file[19], index_col = 0)\n",
    "df_yearprice_11_15= pd.read_csv(file[20], index_col = 0)\n",
    "df_yearprice_16_18= pd.read_csv(file[21], index_col = 0)\n"
   ]
  },
  {
   "cell_type": "markdown",
   "id": "9fdc6741",
   "metadata": {
    "id": "9fdc6741"
   },
   "source": [
    "# 전월세 출력 함수"
   ]
  },
  {
   "cell_type": "markdown",
   "id": "fdd2ce06",
   "metadata": {},
   "source": [
    "## 동 입력 시 전월세 평균 조회"
   ]
  },
  {
   "cell_type": "code",
   "execution_count": null,
   "id": "eb65f013",
   "metadata": {
    "ExecuteTime": {
     "end_time": "2023-02-25T15:23:40.217450Z",
     "start_time": "2023-02-25T15:23:40.188629Z"
    },
    "id": "eb65f013"
   },
   "outputs": [],
   "source": [
    "def dong_price(dong):\n",
    "    import pandas as pd\n",
    "    import warnings\n",
    "    warnings.filterwarnings(action='ignore')\n",
    "\n",
    "#데이터 가져오고  법정동 코드 합치기  \n",
    "    price = df_houseprice\n",
    "    price['법정동코드'] = price['자치구코드'].astype(str) + price['법정동코드'].astype(str)\n",
    "    price['법정동코드'] = price['법정동코드'].str[0:8]\n",
    "    price = price.drop(['자치구코드','지번구분코드', '지번구분', '본번','부번','층', '계약일','건축년도','건물명', '계약기간', '신규계약구분','갱신청구권사용','종전보증금','종전임대료'], axis = 1)\n",
    "\n",
    "\n",
    "        #월세\n",
    "    bool_month = price['전월세구분'] == '월세'\n",
    "    month_df = price[bool_month]\n",
    "    month_df.rename(columns = {'자치구명':'자치구', '법정동명':'동', '임대료(만원)':'월세'}, inplace = True) # 팀원들과 컬럼명 맞추기\n",
    "    month_df['월세']  = month_df['월세']\n",
    "    month_df.head()\n",
    "\n",
    "    bool_area = month_df['임대면적'] < 60  #1인 가구가 살만한 일반적인 최대치를 18평으로 잡았음\n",
    "    month_df = month_df[bool_area]\n",
    "    month_df.head()\n",
    "\n",
    "        #사람들이 일반적으로 이해하기 쉬운 평으로 컬럼을 하나 더 만들어줌\n",
    "    month_df['평'] = round(month_df['임대면적']/3.3,0)\n",
    "\n",
    "        #1평당 가격을 지정하여 평당 월세 비용을 구함\n",
    "    month_df['월세평당가(만원)'] = round(month_df['월세']/month_df['평'], 2)\n",
    "\n",
    "\n",
    "        #보증금 이상치 제거\n",
    "    boo1 = month_df['보증금(만원)'] <= 13500\n",
    "    month_df = month_df[boo1]\n",
    "\n",
    "        #월세 이상치 제거\n",
    "    boo2 = month_df['월세'] <= 121\n",
    "    month_df = month_df[boo2]\n",
    "\n",
    "        #평구간 나누기\n",
    "    month_df['평 구간']=pd.cut(month_df['평'],bins=[0,10,15,18],right=True) #right 옵션 True\n",
    "\n",
    "    month1 = month_df[month_df['평'] <= 10]\n",
    "    month2 = month_df[(month_df['평'] > 10) & (month_df['평'] <= 15)]\n",
    "    month3 = month_df[(month_df['평'] > 15) & (month_df['평'] <= 18)]\n",
    "\n",
    "\n",
    "\n",
    "        # 전세\n",
    "    bool_year = price['전월세구분'] == '전세'\n",
    "    year_df = price[bool_year]\n",
    "    year_df.rename(columns = {'자치구명':'자치구', '법정동명':'동', '보증금(만원)':'전세금'}, inplace = True)# 팀원들과 컬럼명 맞추기\n",
    "    year_df.head()\n",
    "\n",
    "    bool_area = year_df['임대면적'] < 60  #1인 가구가 살만한 일반적인 최대치를 18평으로 잡았음\n",
    "    year_df = year_df[bool_area]\n",
    "    year_df.head()\n",
    "\n",
    "\n",
    "        #사람들이 일반적으로 이해하기 쉬운 평으로 컬럼을 하나 더 만들어줌\n",
    "    year_df['평'] = round(year_df['임대면적']/3.3,0)\n",
    "\n",
    "        #1평당 가격을 지정하여 평당 전세 비용을 구함\n",
    "    year_df['전세평당가(만원)'] = round(year_df['전세금']/year_df['평'], 2)\n",
    "    year_df.head()\n",
    "\n",
    "\n",
    "        # 이상치 제거\n",
    "    boo3 = year_df['전세금'] <= 54000\n",
    "    year_df = year_df[boo3]\n",
    "\n",
    "        #평수나누기\n",
    "    year_df['평 구간']=pd.cut(year_df['평'],bins=[0,10,15,18],right=True) #right 옵션 True\n",
    "\n",
    "    year1 = year_df[year_df['평'] <= 10]\n",
    "    year2 = year_df[(year_df['평'] > 10) & (year_df['평'] <= 15)]\n",
    "    year3 = year_df[(year_df['평'] > 15) & (year_df['평'] <= 18)]\n",
    "\n",
    "\n",
    "    # 월세 size1에 해당하는 보증금 임대료 평당가\n",
    "    month_size1_price = month1[['전월세구분','동', '보증금(만원)', '월세', '월세평당가(만원)']].groupby(['동']).mean()\n",
    "    month_size1_price = month_size1_price.reset_index()\n",
    "    month_size1_price = month_size1_price[month_size1_price['동'] == dong]\n",
    "\n",
    "    # 월세 size2에 해당하는 보증금 임대료 평당가\n",
    "    month_size2_price = month2[['전월세구분','동', '보증금(만원)', '월세', '월세평당가(만원)']].groupby(['동']).mean()\n",
    "    month_size2_price = month_size2_price.reset_index()\n",
    "    month_size2_price = month_size2_price[month_size2_price['동'] == dong]\n",
    "\n",
    "    # 월세 size3에 해당하는 보증금 임대료 평당가\n",
    "    month_size3_price = month3[['전월세구분','동', '보증금(만원)', '월세', '월세평당가(만원)']].groupby(['동']).mean()\n",
    "    month_size3_price = month_size3_price.reset_index()\n",
    "    month_size3_price = month_size3_price[month_size3_price['동'] == dong]   \n",
    "\n",
    "\n",
    "\n",
    "\n",
    "    year_size1_price = year1[['전월세구분','동', '전세금',  '전세평당가(만원)']].groupby(['동']).mean()\n",
    "    year_size1_price = year_size1_price.reset_index()\n",
    "    year_size1_price = year_size1_price[year_size1_price['동'] == dong]\n",
    "\n",
    "\n",
    "    year_size2_price = year2[['전월세구분','동', '전세금', '전세평당가(만원)']].groupby(['동']).mean()\n",
    "    year_size2_price = year_size2_price.reset_index()\n",
    "    year_size2_price = year_size2_price[year_size2_price['동'] == dong]\n",
    "\n",
    "    year_size3_price = year3[['전월세구분','동', '전세금', '전세평당가(만원)']].groupby(['동']).mean()\n",
    "    year_size3_price = year_size3_price.reset_index()\n",
    "    year_size3_price = year_size3_price[year_size3_price['동'] == dong]\n",
    "\n",
    "    df = pd.merge(month_size1_price, year_size1_price,  how='left', on = \"동\")\n",
    "    df2= pd.merge(month_size2_price, year_size2_price,  how='left', on = \"동\")\n",
    "    df3= pd.merge(month_size3_price, year_size3_price,  how='left', on = \"동\")\n",
    "    g = pd.concat([df,df2,df3])\n",
    "    g['평수'] = ['0-10','11-15','16-18']\n",
    "    g = g[['평수', '동', '보증금(만원)', '월세', '월세평당가(만원)', '전세금', '전세평당가(만원)']]\n",
    "    return g"
   ]
  },
  {
   "cell_type": "code",
   "execution_count": null,
   "id": "0d73943f",
   "metadata": {
    "ExecuteTime": {
     "end_time": "2023-02-25T15:23:41.430672Z",
     "start_time": "2023-02-25T15:23:40.218590Z"
    },
    "id": "0d73943f",
    "outputId": "459e6d30-8025-4a60-ee6a-69bdf5c56457"
   },
   "outputs": [],
   "source": [
    "dong_price('대치동')"
   ]
  },
  {
   "cell_type": "markdown",
   "id": "abfe1ea7",
   "metadata": {},
   "source": [
    "## 원하는 금액 입력 시 해당 동 출력"
   ]
  },
  {
   "cell_type": "code",
   "execution_count": null,
   "id": "517c78f4",
   "metadata": {
    "ExecuteTime": {
     "end_time": "2023-02-26T10:51:20.528904Z",
     "start_time": "2023-02-26T10:51:20.500867Z"
    }
   },
   "outputs": [],
   "source": [
    "def price_mean():\n",
    "     #''' 원하는 평당가 입력시에 평당가의 평균가 인근 동 출력하기 '''\n",
    "        \n",
    "    print('원하는 평당가의 범위 입력 시에 해당 평당가 범위 안에 평균 평당가가 들어있는 동을 출력')   \n",
    "        \n",
    "    #전세/월세 중 1 선택\n",
    "    month_or_year = input('전세/월세 중 1 선택: ')\n",
    "    #개인이 원하는 금액대 저정하기\n",
    "    a = int(input('원하는 보증금의 평당가 최소값을 입력하세요(단위: 만원): '))\n",
    "    b = int(input('원하는 보증금의 평당가 최대값을 입력하세요(단위: 만원): '))\n",
    "    \n",
    "    if month_or_year == '월세':\n",
    "        c = int(input('원하는 월세의 최소값을 입력하세요(단위: 만원): '))\n",
    "        d = int(input('원하는 월세의 최대값을 입력하세요(단위: 만원): '))\n",
    "\n",
    "    \n",
    "    import pandas as pd\n",
    "    import warnings\n",
    "    warnings.filterwarnings(action='ignore')\n",
    "\n",
    "#데이터 가져오고  법정동 코드 합치기  \n",
    "    price = df_houseprice\n",
    "    price['법정동코드'] = price['자치구코드'].astype(str) + price['법정동코드'].astype(str)\n",
    "    price['법정동코드'] = price['법정동코드'].str[0:8]\n",
    "    price = price.astype({'법정동코드':'int'})\n",
    "    price[\"주소\"] = price[\"자치구명\"]+ price[\"법정동명\"]\n",
    "    price = pd.merge(price, Statutory_dong_code, how =\"outer\", on='주소')\n",
    "    price = price[[ '법정동코드_y','전월세구분', '임대면적', '보증금(만원)', '임대료(만원)', '건물용도', '자치구', '동']]\n",
    "    price.rename(columns={'법정동코드_y':\"법정동코드\"}, inplace=True)\n",
    "    price = price.dropna(axis=0)\n",
    "    price\n",
    "\n",
    "        #월세\n",
    "    bool_month = price['전월세구분'] == '월세'\n",
    "    month_df = price[bool_month]\n",
    "    month_df.rename(columns = {'자치구명':'자치구', '법정동명':'동', '임대료(만원)':'월세'}, inplace = True) # 팀원들과 컬럼명 맞추기\n",
    "    month_df['월세']  = month_df['월세']\n",
    "    month_df.head()\n",
    "\n",
    "    bool_area = month_df['임대면적'] < 60  #1인 가구가 살만한 일반적인 최대치를 18평으로 잡았음\n",
    "    month_df = month_df[bool_area]\n",
    "    month_df.head()\n",
    "\n",
    "        #사람들이 일반적으로 이해하기 쉬운 평으로 컬럼을 하나 더 만들어줌\n",
    "    month_df['평'] = round(month_df['임대면적']/3.3,0)\n",
    "\n",
    "        #1평당 가격을 지정하여 평당 월세 비용을 구함\n",
    "    month_df['월세평당가(만원)'] = round(month_df['월세']/month_df['평'], 2)\n",
    "\n",
    "    month_df['보증금평당가(만원)'] = round(month_df['보증금(만원)']/month_df['평'], 2)\n",
    "\n",
    "\n",
    "        #보증금 이상치 제거\n",
    "    boo1 = month_df['보증금(만원)'] <= 13500\n",
    "    month_df = month_df[boo1]\n",
    "\n",
    "        #월세 이상치 제거\n",
    "    boo2 = month_df['월세'] <= 121\n",
    "    month_df = month_df[boo2]\n",
    "\n",
    "\n",
    "\n",
    "\n",
    "        # 전세\n",
    "    bool_year = price['전월세구분'] == '전세'\n",
    "    year_df = price[bool_year]\n",
    "    year_df.rename(columns = {'자치구명':'자치구', '법정동명':'동', '보증금(만원)':'전세금'}, inplace = True)# 팀원들과 컬럼명 맞추기\n",
    "    year_df.head()\n",
    "\n",
    "    bool_area = year_df['임대면적'] < 60  #1인 가구가 살만한 일반적인 최대치를 18평으로 잡았음\n",
    "    year_df = year_df[bool_area]\n",
    "    year_df.head()\n",
    "\n",
    "\n",
    "        #사람들이 일반적으로 이해하기 쉬운 평으로 컬럼을 하나 더 만들어줌\n",
    "    year_df['평'] = round(year_df['임대면적']/3.3,0)\n",
    "\n",
    "        #1평당 가격을 지정하여 평당 전세 비용을 구함\n",
    "    year_df['전세평당가(만원)'] = round(year_df['전세금']/year_df['평'], 2)\n",
    "    year_df.head()\n",
    "\n",
    "\n",
    "        # 이상치 제거\n",
    "    boo3 = year_df['전세금'] <= 54000\n",
    "    year_df = year_df[boo3]\n",
    "    \n",
    "    \n",
    "    \n",
    "    #전/월세 중에 출력\n",
    "    if month_or_year == '월세':\n",
    "        month_result = month_df.groupby(['법정동코드','자치구', '동']).mean()\n",
    "        month_bool = (month_result['보증금평당가(만원)'] >= a) & (month_result['보증금평당가(만원)'] <= b)\n",
    "        month_bool2 = (month_result['월세평당가(만원)'] >= c) & (month_result['월세평당가(만원)'] <= d)\n",
    "        month_result = month_result[month_bool & month_bool2]\n",
    "        month_result.reset_index(inplace = True)\n",
    "        return month_result[['법정동코드','자치구', '동', '보증금평당가(만원)', '월세평당가(만원)']]\n",
    "    \n",
    "    else:\n",
    "        year_df = year_df.groupby(['법정동코드','자치구', '동']).mean()\n",
    "        year_bool = (year_df['전세평당가(만원)'] >= a) & (year_df['전세평당가(만원)'] <= b)\n",
    "        year_df = year_df[year_bool]\n",
    "        year_df.reset_index(inplace = True)\n",
    "        return year_df[['법정동코드','자치구', '동','전세평당가(만원)']]"
   ]
  },
  {
   "cell_type": "code",
   "execution_count": null,
   "id": "49a85db5",
   "metadata": {
    "ExecuteTime": {
     "end_time": "2023-02-26T10:51:43.531843Z",
     "start_time": "2023-02-26T10:51:33.282534Z"
    },
    "scrolled": false
   },
   "outputs": [],
   "source": [
    "a = price_mean()\n",
    "a"
   ]
  },
  {
   "cell_type": "markdown",
   "id": "1c95c119",
   "metadata": {},
   "source": [
    "# 최종 동 추천 함수구현 부분"
   ]
  },
  {
   "cell_type": "code",
   "execution_count": null,
   "id": "a2a48fb9",
   "metadata": {
    "ExecuteTime": {
     "end_time": "2023-02-25T15:23:40.092594Z",
     "start_time": "2023-02-25T15:23:40.066681Z"
    },
    "id": "06aa948c"
   },
   "outputs": [],
   "source": [
    "def fac(a,b,c) :\n",
    "    \n",
    "    lst = [a,b,c]\n",
    "    \n",
    "    name = { \"코인세탁소\" : df_fac_coin, \"약국\" : df_fac_pharm, \"편의점\" : df_fac_store}\n",
    "    sub = { a : 0.5, b : 0.3, c: 0.2 }\n",
    "            \n",
    "    name[a][\"점수1\"] = name[a][\"점수\"] * sub[a]\n",
    "    name[b][\"점수1\"] = name[b][\"점수\"] * sub[b]\n",
    "    name[c][\"점수1\"] = name[c][\"점수\"] * sub[c]\n",
    "    \n",
    "\n",
    "\n",
    "fac(\"약국\", \"편의점\", \"코인세탁소\")\n"
   ]
  },
  {
   "cell_type": "code",
   "execution_count": null,
   "id": "af6580a4",
   "metadata": {
    "ExecuteTime": {
     "end_time": "2023-02-25T15:23:40.141819Z",
     "start_time": "2023-02-25T15:23:40.093741Z"
    },
    "id": "ba649adf"
   },
   "outputs": [],
   "source": [
    "table = pd.merge(Statutory_dong_code,  df_fac_store, how =\"outer\", on='법정동코드')\n",
    "table1 = pd.merge(df_fac_pharm, df_fac_coin, how=\"outer\", on='법정동코드')\n",
    "df_fac_score = pd.merge(table, table1, how=\"outer\", on='법정동코드')\n",
    "\n",
    "\n",
    "df_fac_score['점수'] = df_fac_score['점수1'].fillna(0) + df_fac_score['점수1_x'].fillna(0) + df_fac_score['점수1_y'].fillna(0)\n",
    "df_fac_score = df_fac_score[[\"법정동코드\" ,\"자치구_x_x\",\"동_x_x\",\"점수\"]] \n",
    "df_fac_score.rename(columns={\"자치구_x_x\":\"자치구\",\"동_x_x\":\"동\"}, inplace=True)\n",
    "df_fac_score"
   ]
  },
  {
   "cell_type": "code",
   "execution_count": null,
   "id": "45b1fb57",
   "metadata": {
    "ExecuteTime": {
     "end_time": "2023-02-25T15:23:40.156912Z",
     "start_time": "2023-02-25T15:23:40.142748Z"
    },
    "id": "ab120266"
   },
   "outputs": [],
   "source": [
    "def traffic(a,b) :\n",
    "    \n",
    "    lst = [a,b]\n",
    "    \n",
    "    name = { \"지하철\" : df_traffic_subway, \"버스\" : df_traffic_bus}\n",
    "    sub = { a : 0.6, b : 0.4 }\n",
    "            \n",
    "    name[a][\"점수1\"] = name[a][\"점수\"] * sub[a]\n",
    "    name[b][\"점수1\"] = name[b][\"점수\"] * sub[b]\n",
    "\n",
    "    \n",
    "\n",
    "\n",
    "traffic(\"지하철\",\"버스\")\n"
   ]
  },
  {
   "cell_type": "code",
   "execution_count": null,
   "id": "586df636",
   "metadata": {
    "ExecuteTime": {
     "end_time": "2023-02-25T15:23:40.187048Z",
     "start_time": "2023-02-25T15:23:40.158994Z"
    },
    "id": "ea572e1c",
    "outputId": "e75932a6-266a-49f0-ad52-5bd7e3b0210e",
    "scrolled": false
   },
   "outputs": [],
   "source": [
    "table = pd.merge(Statutory_dong_code,  df_traffic_bus, how =\"outer\", on='법정동코드')\n",
    "df_traffic_score = pd.merge(table, df_traffic_subway, how=\"outer\", on='법정동코드')\n",
    "\n",
    "df_traffic_score['점수'] = df_traffic_score['점수1_x'].fillna(0) + df_traffic_score['점수1_y'].fillna(0)\n",
    "df_traffic_score = df_traffic_score[[\"법정동코드\" ,\"자치구_x\",\"동_x\",\"점수\"]] \n",
    "df_traffic_score.rename(columns={\"자치구_x\":\"자치구\",\"동_x\":\"동\"}, inplace=True)\n",
    "df_traffic_score"
   ]
  },
  {
   "cell_type": "code",
   "execution_count": null,
   "id": "c7b42287",
   "metadata": {},
   "outputs": [],
   "source": [
    "def safe(a,b) :\n",
    "    \n",
    "    lst = [a,b]\n",
    "    \n",
    "    name = { \"경찰서\" : df_safe_police, \"유흥업소\" : df_safe_entertain,}\n",
    "    sub = { a : 0.5, b : 0.5 }\n",
    "            \n",
    "    name[a][\"점수1\"] = name[a][\"점수\"] * sub[a]\n",
    "    name[b][\"점수1\"] = name[b][\"점수\"] * sub[b]\n",
    "\n",
    "    \n",
    "\n",
    "\n",
    "safe(\"경찰서\",\"유흥업소\")\n"
   ]
  },
  {
   "cell_type": "code",
   "execution_count": null,
   "id": "e28e4c40",
   "metadata": {},
   "outputs": [],
   "source": [
    "table = pd.merge(Statutory_dong_code,  df_safe_police, how =\"outer\", on='법정동코드')\n",
    "df_safe_score = pd.merge(table, df_safe_entertain, how=\"outer\", on='법정동코드')\n",
    "\n",
    "df_safe_score['점수'] = df_safe_score['점수1_x'].fillna(0) + df_safe_score['점수1_y'].fillna(0)\n",
    "df_safe_score = df_safe_score[[\"법정동코드\" ,\"자치구_x\",\"동_x\",\"점수\"]] \n",
    "df_safe_score.rename(columns={\"자치구_x\":\"자치구\",\"동_x\":\"동\"}, inplace=True)\n",
    "df_safe_score"
   ]
  },
  {
   "cell_type": "code",
   "execution_count": null,
   "id": "5efb11f4",
   "metadata": {},
   "outputs": [],
   "source": [
    "def rast(a,b,c,d) :\n",
    "    \n",
    "    lst = [a,b,c,d]\n",
    "    \n",
    "    name = { \"편의시설\" : df_fac_score, \"교통\" : df_traffic_score, \"녹지\" : df_green, \"치안\" :df_safe_score}\n",
    "    sub = { a : 0.4, b : 0.3, c : 0.2, d : 0.1  }\n",
    "            \n",
    "    name[a][\"점수1\"] = name[a][\"점수\"] * sub[a]\n",
    "    name[b][\"점수1\"] = name[b][\"점수\"] * sub[b]\n",
    "    name[c][\"점수1\"] = name[c][\"점수\"] * sub[c]\n",
    "    name[d][\"점수1\"] = name[d][\"점수\"] * sub[d]\n",
    "    \n",
    "\n",
    "\n",
    "rast(\"치안\",\"교통\",\"녹지\" ,\"편의시설\")\n"
   ]
  },
  {
   "cell_type": "code",
   "execution_count": null,
   "id": "5d38f1ee",
   "metadata": {},
   "outputs": [],
   "source": [
    "table = pd.merge(Statutory_dong_code,  df_traffic_score, how =\"outer\", on='법정동코드')\n",
    "table1 = pd.merge(df_green, df_fac_score, how=\"outer\", on='법정동코드')\n",
    "table2 = pd.merge(table, table1, how=\"outer\", on='법정동코드')\n",
    "table2['점수'] = table2['점수1'].fillna(0) + table2['점수1_x'].fillna(0) + table2['점수1_y'].fillna(0)\n",
    "table2 = table2[[\"법정동코드\" ,\"자치구_x_x\",\"동_x_x\",\"점수\"]] \n",
    "table2.rename(columns={\"자치구_x_x\":\"자치구\",\"동_x_x\":\"동\"}, inplace=True)\n",
    "table2\n",
    "rast_score = pd.merge(table2, df_safe_score, how=\"outer\", on='법정동코드')\n",
    "rast_score['점수'] = rast_score['점수_x'].fillna(0) + rast_score['점수1'].fillna(0) \n",
    "rast_score = rast_score[[\"법정동코드\" ,\"자치구_x\",\"동_x\",\"점수\"]] \n",
    "rast_score.rename(columns={\"자치구_x\":\"자치구\",\"동_x\":\"동\"}, inplace=True)\n",
    "rast_score"
   ]
  },
  {
   "cell_type": "code",
   "execution_count": null,
   "id": "3c00215f",
   "metadata": {},
   "outputs": [],
   "source": [
    "result = pd.merge(a,rast_score, how =\"left\", on='법정동코드')\n",
    "result = result.drop([\"자치구_y\",\"동_y\"],axis=1)\n",
    "result.rename(columns={\"자치구_x\":\"자치구\",\"동_x\":\"동\"}, inplace=True)\n",
    "result = result.dropna(axis=0)\n",
    "result"
   ]
  },
  {
   "cell_type": "code",
   "execution_count": null,
   "id": "0eb6f142",
   "metadata": {},
   "outputs": [],
   "source": [
    "result_1=result.nlargest(10,\"점수\",keep='all')"
   ]
  },
  {
   "cell_type": "markdown",
   "id": "25f62dba",
   "metadata": {
    "id": "58a6dfdd"
   },
   "source": [
    "# 시각화"
   ]
  },
  {
   "cell_type": "markdown",
   "id": "2b010bac",
   "metadata": {
    "id": "8ba78b91"
   },
   "source": [
    "## Geo JSON 불러오기"
   ]
  },
  {
   "cell_type": "code",
   "execution_count": null,
   "id": "472f0ccf",
   "metadata": {
    "ExecuteTime": {
     "end_time": "2023-02-25T15:23:28.661583Z",
     "start_time": "2023-02-25T15:23:28.646296Z"
    },
    "id": "d62601d4",
    "outputId": "78c6add4-a274-4ceb-e219-be155aa77344"
   },
   "outputs": [],
   "source": [
    "seoul_geo_url = \"https://raw.githubusercontent.com/choiimingue/seoul_map/main/EMD_SEOUL.json\"\n",
    "print(seoul_geo_url)"
   ]
  },
  {
   "cell_type": "code",
   "execution_count": null,
   "id": "1d0688af",
   "metadata": {
    "ExecuteTime": {
     "end_time": "2023-02-25T15:23:31.924118Z",
     "start_time": "2023-02-25T15:23:28.664928Z"
    },
    "id": "b0204412",
    "outputId": "b1937b9a-d071-4fee-a43f-58d344c923aa"
   },
   "outputs": [],
   "source": [
    "# 서울 시도 GeoJSON \n",
    "with urlopen(seoul_geo_url) as response:\n",
    "    seoul_geojson = json.load(response)\n",
    "\n",
    "seoul_geojson[\"features\"][0][\"properties\"]"
   ]
  },
  {
   "cell_type": "markdown",
   "id": "19004046",
   "metadata": {
    "id": "0d91ad3a"
   },
   "source": [
    "## 시각화 샘플"
   ]
  },
  {
   "cell_type": "code",
   "execution_count": null,
   "id": "8a12b258",
   "metadata": {
    "ExecuteTime": {
     "end_time": "2023-02-25T15:23:32.791150Z",
     "start_time": "2023-02-25T15:23:31.926040Z"
    },
    "id": "fb248827",
    "outputId": "773830fb-8a8e-4f17-e7de-7a1208e0550d"
   },
   "outputs": [],
   "source": [
    "# 법정동코드 코인세탁소 합계 시각화\n",
    "f_map_coin = folium.Map([37.541, 126.986], zoom_start=12)\n",
    "\n",
    "folium.Choropleth(\n",
    "    geo_data=seoul_geojson,\n",
    "    name='choropleth',\n",
    "    data=df_fac_coin,\n",
    "    columns=[\"법정동코드\",'합계'],\n",
    "    key_on='feature.properties.EMD_CD',\n",
    "    fill_color='Reds',\n",
    "    fill_opacity=0.7,\n",
    "    line_opacity=0.2,\n",
    "    legend_name='동별 코인세탁소 수'\n",
    ").add_to(f_map_coin)\n",
    "\n",
    "f_map_coin"
   ]
  },
  {
   "cell_type": "markdown",
   "id": "da1420fe",
   "metadata": {
    "id": "f638de30"
   },
   "source": [
    "## 구분별 데이터 시각화 함수 구현\n",
    "### get_geo(a)"
   ]
  },
  {
   "cell_type": "code",
   "execution_count": null,
   "id": "d5c07400",
   "metadata": {
    "ExecuteTime": {
     "end_time": "2023-02-25T15:23:33.691357Z",
     "start_time": "2023-02-25T15:23:32.793364Z"
    },
    "id": "d6a1568d",
    "outputId": "199717a6-cde2-4d62-b283-45252fe0f1d7"
   },
   "outputs": [],
   "source": [
    "# 세부구분 데이터 시각화\n",
    "def get_geo(a):\n",
    "    \n",
    "    # 개별 데이터 지도 시각화 함수\n",
    "    # 파라미터를 입력\n",
    "    # a에 세부구분 넣어 지도에 시각화\n",
    "    \n",
    "    f_map_fac = folium.Map([37.541, 126.986], zoom_start=11, tiles=\"cartodbpositron\")\n",
    "    lst = [a]\n",
    "    for i in lst :\n",
    "        \n",
    "        name = { \"코인세탁소\" : df_fac_coin, \"약국\" : df_fac_pharm, \"편의점\" : df_fac_store, \n",
    "               \"녹지\" : df_green, \"유흥업소\" : df_safe_entertain, \"경찰관서\" : df_safe_police,\n",
    "               \"버스\" : df_traffic_bus, \"지하철\" : df_traffic_subway, \"결과\" : result, \"탑10\" : result_1}\n",
    "        sub = { a : 0.5,}\n",
    "        \n",
    "        \n",
    "\n",
    "        # 코인세탁\n",
    "        folium.Choropleth(\n",
    "        geo_data=seoul_geojson,\n",
    "        name='choropleth',\n",
    "        data=name[i],\n",
    "        columns=[\"법정동코드\",'점수'],\n",
    "        key_on='feature.properties.EMD_CD',\n",
    "        fill_color='Greens',\n",
    "        fill_opacity=sub[i],\n",
    "        line_opacity=0.5,\n",
    "        legend_name= f'동별 {i} 수'\n",
    "        ).add_to(f_map_fac)\n",
    "        \n",
    "\n",
    "    return f_map_fac\n",
    "\n",
    "get_geo(\"약국\")"
   ]
  },
  {
   "cell_type": "markdown",
   "id": "e28f4bf2",
   "metadata": {
    "id": "b0e27a89"
   },
   "source": [
    "### get_pricegeo(a)"
   ]
  },
  {
   "cell_type": "code",
   "execution_count": null,
   "id": "9947caa9",
   "metadata": {
    "ExecuteTime": {
     "end_time": "2023-02-25T15:23:34.576284Z",
     "start_time": "2023-02-25T15:23:33.695144Z"
    },
    "id": "e3ebfd34",
    "outputId": "d6d48d3f-8cdf-4e09-ff0e-c3666d4a41c4"
   },
   "outputs": [],
   "source": [
    "def get_pricegeo(a):\n",
    "\n",
    "    \n",
    "    # 개별 데이터 지도 시각화 함수\n",
    "    # 파라미터를 입력\n",
    "    # a에 세부구분 넣어 지도에 시각화\n",
    "    \n",
    "    f_map_fac = folium.Map([37.541, 126.986], zoom_start=12)\n",
    "    lst = [a]\n",
    "    for i in lst :\n",
    "        \n",
    "        name = { \"월세0-10\" : df_monthprice_0_10, \"월세11-15\" : df_monthprice_11_15, \"월세16-18\" : df_monthprice_16_18, \n",
    "               \"월세전체\" : df_monthprice, \"전세0-10\" : df_yearprice_0_10, \"전세10-15\" : df_yearprice_11_15,\n",
    "               \"전세16-18\" : df_yearprice_16_18, \"전세전체\" : df_yearprice}\n",
    "       \n",
    "        \n",
    "        sub = { a : 0.5,}\n",
    "\n",
    "        folium.Choropleth(\n",
    "        geo_data=seoul_geojson,\n",
    "        name='choropleth',\n",
    "        data=name[i],\n",
    "        columns=[\"법정동코드\",'평당가(만원)'],\n",
    "        key_on='feature.properties.EMD_CD',\n",
    "        fill_color='Greens',\n",
    "        fill_opacity=sub[i],\n",
    "        line_opacity=0.5,\n",
    "        legend_name= f'동별 {i} 평당가'\n",
    "        ).add_to(f_map_fac)\n",
    "    \n",
    "    return f_map_fac\n",
    "\n",
    "get_pricegeo(\"월세전체\")"
   ]
  },
  {
   "cell_type": "markdown",
   "id": "c325daaa",
   "metadata": {
    "id": "6f0b95f2"
   },
   "source": [
    "##  편의시설 우선순위에 따른 시각화 함수 구현"
   ]
  },
  {
   "cell_type": "markdown",
   "id": "18b1cd03",
   "metadata": {
    "id": "5c801379"
   },
   "source": [
    "### 점수 비율 차등 부여 함수"
   ]
  },
  {
   "cell_type": "code",
   "execution_count": null,
   "id": "6e722f04",
   "metadata": {
    "ExecuteTime": {
     "end_time": "2023-02-25T15:23:37.087160Z",
     "start_time": "2023-02-25T15:23:34.578503Z"
    },
    "id": "fc5cb3a1",
    "outputId": "5af069de-ad69-44f1-cdaf-31de68c04eb7"
   },
   "outputs": [],
   "source": [
    "def geo_score(a,b,c) :\n",
    "    \n",
    "    f_map_fac = folium.Map([37.541, 126.986], zoom_start=12)\n",
    "    lst = [a,b,c]\n",
    "    \n",
    "    name = { \"코인세탁소\" : df_fac_coin, \"약국\" : df_fac_pharm, \"편의점\" : df_fac_store, \n",
    "                   \"녹지\" : df_green, \"유흥업소\" : df_safe_entertain, \"경찰관서\" : df_safe_police,\n",
    "                   \"버스\" : df_traffic_bus, \"지하철\" : df_traffic_subway}\n",
    "    sub = { a : 0.9, b : 0.6, c: 0.3 }\n",
    "            \n",
    "    name[a][\"점수\"] = name[a][\"점수\"] * sub[a]\n",
    "    name[b][\"점수\"] = name[b][\"점수\"] * sub[b]\n",
    "    name[c][\"점수\"] = name[c][\"점수\"] * sub[c]\n",
    "    \n",
    "    for i in lst :\n",
    "        \n",
    "       \n",
    "        folium.Choropleth(\n",
    "        geo_data=seoul_geojson,\n",
    "        name='choropleth',\n",
    "        data=name[i],\n",
    "        columns=[\"법정동코드\",'점수'],\n",
    "        key_on='feature.properties.EMD_CD',\n",
    "        fill_color='Greens',\n",
    "        fill_opacity=0.5,\n",
    "        line_opacity=0.5,\n",
    "        legend_name= f'동별 {i} 수'\n",
    "        ).add_to(f_map_fac)\n",
    "\n",
    "  \n",
    "    return f_map_fac\n",
    "\n",
    "geo_score(\"약국\", \"편의점\", \"코인세탁소\")\n"
   ]
  },
  {
   "cell_type": "markdown",
   "id": "a6c9ae2e",
   "metadata": {
    "id": "880d339b"
   },
   "source": [
    "### 불투명도 차등 부여 함수"
   ]
  },
  {
   "cell_type": "code",
   "execution_count": null,
   "id": "7c83fd32",
   "metadata": {
    "ExecuteTime": {
     "end_time": "2023-02-25T15:23:40.064002Z",
     "start_time": "2023-02-25T15:23:37.090066Z"
    },
    "id": "3d36db98",
    "outputId": "b37ed2b1-432b-4a72-90be-4f60f3ec4529"
   },
   "outputs": [],
   "source": [
    "def get_geo_op(a,b,c):\n",
    "    \n",
    "    # 편의시설 우선순위에 따른 지도 시각화 함수\n",
    "    # 파라미터를 우선순위순으로 입력\n",
    "    # 불투명도에 차이를 두어 지도에 시각화\n",
    "    lst = [a, b, c]\n",
    "    f_map_fac = folium.Map([37.541, 126.986], zoom_start=12)\n",
    "    for i in lst :\n",
    "        \n",
    "        name = { \"코인세탁소\" : df_fac_coin, \"약국\" : df_fac_pharm, \"편의점\" : df_fac_store, \n",
    "               \"녹지\" : df_green, \"유흥업소\" : df_safe_entertain, \"경찰관서\" : df_safe_police,\n",
    "               \"버스\" : df_traffic_bus, \"지하철\" : df_traffic_subway}\n",
    "        sub = { a : 0.5, b : 0.3, c : 0.1}\n",
    "        \n",
    "        \n",
    "\n",
    "        # 코인세탁\n",
    "        folium.Choropleth(\n",
    "        geo_data=seoul_geojson,\n",
    "        name='choropleth',\n",
    "        data=name[i],\n",
    "        columns=[\"법정동코드\",'합계'],\n",
    "        key_on='feature.properties.EMD_CD',\n",
    "        fill_color='Greens',\n",
    "        fill_opacity=sub[i],\n",
    "        line_opacity=0.5,\n",
    "        legend_name= f'동별 {i} 수'\n",
    "        ).add_to(f_map_fac)\n",
    "    \n",
    "    return f_map_fac\n",
    "\n",
    "get_geo_op(\"약국\", \"편의점\", \"코인세탁소\")"
   ]
  },
  {
   "cell_type": "code",
   "execution_count": null,
   "id": "d76a3840",
   "metadata": {
    "scrolled": true
   },
   "outputs": [],
   "source": [
    "result_1.sort_values([\"점수\"], ascending = False).reset_index(drop=True)"
   ]
  },
  {
   "cell_type": "code",
   "execution_count": null,
   "id": "6deaabd4",
   "metadata": {},
   "outputs": [],
   "source": [
    "get_geo(\"탑10\")"
   ]
  },
  {
   "cell_type": "code",
   "execution_count": null,
   "id": "ba3c19f7",
   "metadata": {},
   "outputs": [],
   "source": []
  },
  {
   "cell_type": "code",
   "execution_count": null,
   "id": "4b66e7a7",
   "metadata": {},
   "outputs": [],
   "source": []
  }
 ],
 "metadata": {
  "colab": {
   "provenance": []
  },
  "kernelspec": {
   "display_name": "Python 3 (ipykernel)",
   "language": "python",
   "name": "python3"
  },
  "language_info": {
   "codemirror_mode": {
    "name": "ipython",
    "version": 3
   },
   "file_extension": ".py",
   "mimetype": "text/x-python",
   "name": "python",
   "nbconvert_exporter": "python",
   "pygments_lexer": "ipython3",
   "version": "3.9.13"
  },
  "toc": {
   "base_numbering": 1,
   "nav_menu": {},
   "number_sections": true,
   "sideBar": true,
   "skip_h1_title": false,
   "title_cell": "Table of Contents",
   "title_sidebar": "Contents",
   "toc_cell": false,
   "toc_position": {
    "height": "calc(100% - 180px)",
    "left": "10px",
    "top": "150px",
    "width": "251.172px"
   },
   "toc_section_display": true,
   "toc_window_display": true
  },
  "varInspector": {
   "cols": {
    "lenName": 16,
    "lenType": 16,
    "lenVar": 40
   },
   "kernels_config": {
    "python": {
     "delete_cmd_postfix": "",
     "delete_cmd_prefix": "del ",
     "library": "var_list.py",
     "varRefreshCmd": "print(var_dic_list())"
    },
    "r": {
     "delete_cmd_postfix": ") ",
     "delete_cmd_prefix": "rm(",
     "library": "var_list.r",
     "varRefreshCmd": "cat(var_dic_list()) "
    }
   },
   "types_to_exclude": [
    "module",
    "function",
    "builtin_function_or_method",
    "instance",
    "_Feature"
   ],
   "window_display": false
  }
 },
 "nbformat": 4,
 "nbformat_minor": 5
}
